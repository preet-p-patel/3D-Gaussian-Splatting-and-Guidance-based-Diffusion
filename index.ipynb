{
 "cells": [
  {
   "cell_type": "markdown",
   "metadata": {},
   "source": [
    "# Learning for 3D Vision - Assignment 4"
   ]
  },
  {
   "cell_type": "markdown",
   "metadata": {},
   "source": [
    "# 1. 3D Gaussian Splatting"
   ]
  },
  {
   "cell_type": "markdown",
   "metadata": {},
   "source": [
    "### 1.1 3D Guassian Rasterization \n",
    "\n",
    "<img src=\"Q1\\output\\q1_1_render.gif\" alt=\"1.1\" >"
   ]
  },
  {
   "cell_type": "markdown",
   "metadata": {},
   "source": [
    "### 1.2 Training 3D Gaussian Representations\n",
    "\n",
    "Learning Rates:\n",
    "\n",
    "<table>\n",
    "    <tr>\n",
    "        <th>Opacities</th>\n",
    "        <th>Scales</th>\n",
    "        <th>Colours</th>\n",
    "        <th>Means</th>\n",
    "    </tr>\n",
    "    <tr>\n",
    "        <th>0.005</th>\n",
    "        <th>0.01</th>\n",
    "        <th>0.02</th>\n",
    "        <th>0.001</th>   \n",
    "    </tr>\n",
    "</table>\n",
    "\n",
    "Number of iterations: 250\n",
    "\n",
    "PSNR: 28.470\n",
    "\n",
    "SSIM: 0.923\n",
    "\n",
    "\n",
    "<table>\n",
    "    <tr>\n",
    "        <th>Training Progress</th>\n",
    "    </tr>\n",
    "    <tr>\n",
    "        <td><img src=\"Q1\\output\\q1_training_progress.gif\" alt=\"Grid Visualization\"></td>    \n",
    "    </tr>\n",
    "</table>\n",
    "\n",
    "\n",
    "<table>\n",
    "    <tr>\n",
    "        <th>Final Output</th>\n",
    "    </tr>\n",
    "    <tr>\n",
    "        <td><img src=\"Q1\\output\\q1_training_final_renders.gif\" alt=\"Grid Visualization\" width= 400></td>    \n",
    "    </tr>\n",
    "</table>\n"
   ]
  },
  {
   "cell_type": "markdown",
   "metadata": {},
   "source": [
    "### 1.3 Extensions \n",
    "\n",
    "## 1.3.1 Rendering with Spherical Harmoics\n",
    "\n",
    "<table>\n",
    "    <tr>\n",
    "        <th>With Spherical Harmoincs</th>\n",
    "        <td><img src=\"Q1\\output\\q1_3_render_spherical_harmoics.gif\" alt=\"Grid Visualization\"></td>\n",
    "    </tr>\n",
    "    <tr>\n",
    "        <th>Without Spherical Harmonics</th>\n",
    "        <td><img src=\"Q1\\output\\q1_1_render.gif\" alt=\"Grid Visualization\"></td>   \n",
    "    </tr>\n",
    "</table>\n",
    "\n",
    "\n",
    "## 1.3.2 Training on Harder Scene"
   ]
  }
 ],
 "metadata": {
  "language_info": {
   "name": "python"
  }
 },
 "nbformat": 4,
 "nbformat_minor": 2
}
